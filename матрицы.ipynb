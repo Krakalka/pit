{
 "cells": [
  {
   "cell_type": "code",
   "execution_count": 11,
   "metadata": {},
   "outputs": [
    {
     "name": "stdout",
     "output_type": "stream",
     "text": [
      "{1, 2, 3, 4, 5, 6}\n"
     ]
    }
   ],
   "source": [
    "matrix = [\n",
    "    [1,2,3],\n",
    "    [4,2,5],\n",
    "    [3,5,6]\n",
    "]\n",
    "m = []\n",
    "for i in range(3):\n",
    "    for g in range(3):\n",
    "        m.append(matrix[i][g])\n",
    "m = set(m)\n",
    "print(m)"
   ]
  },
  {
   "cell_type": "code",
   "execution_count": 4,
   "metadata": {},
   "outputs": [
    {
     "name": "stdout",
     "output_type": "stream",
     "text": [
      "{2, 5}\n"
     ]
    }
   ],
   "source": [
    "matrix = [\n",
    "    [1,2,3],\n",
    "    [4,5,6]\n",
    "]\n",
    "matrix2 = [\n",
    "    [2,7,8],\n",
    "    [5,9,10]\n",
    "]\n",
    "m = []\n",
    "m2 = []\n",
    "for i in range(2):\n",
    "    for g in range(3):\n",
    "        m.append(matrix[i][g])\n",
    "        m2.append(matrix2[i][g])\n",
    "m = set(m)\n",
    "m2 = set(m2)\n",
    "print(m&m2)"
   ]
  },
  {
   "cell_type": "code",
   "execution_count": 10,
   "metadata": {},
   "outputs": [
    {
     "ename": "SyntaxError",
     "evalue": "invalid syntax (Temp/ipykernel_4120/1763986138.py, line 12)",
     "output_type": "error",
     "traceback": [
      "\u001b[1;36m  File \u001b[1;32m\"C:\\Users\\NAIT\\AppData\\Local\\Temp/ipykernel_4120/1763986138.py\"\u001b[1;36m, line \u001b[1;32m12\u001b[0m\n\u001b[1;33m    matrix.del(matrix[i][q])\u001b[0m\n\u001b[1;37m           ^\u001b[0m\n\u001b[1;31mSyntaxError\u001b[0m\u001b[1;31m:\u001b[0m invalid syntax\n"
     ]
    }
   ],
   "source": [
    "matrix = [\n",
    "    [1,2,2,3],\n",
    "    [4,4,5,6],\n",
    "    [7,8,8,8]\n",
    "]\n",
    "for i in range(3):\n",
    "    for g in range(4):\n",
    "        m=(matrix[i][g])\n",
    "        for q in range (1,4):\n",
    "            s = matrix[i][q]\n",
    "            if m == q:\n",
    "                matrix.del(matrix[i][q])\n",
    "print(matrix)"
   ]
  }
 ],
 "metadata": {
  "kernelspec": {
   "display_name": "Python 3.8.0 64-bit",
   "language": "python",
   "name": "python3"
  },
  "language_info": {
   "codemirror_mode": {
    "name": "ipython",
    "version": 3
   },
   "file_extension": ".py",
   "mimetype": "text/x-python",
   "name": "python",
   "nbconvert_exporter": "python",
   "pygments_lexer": "ipython3",
   "version": "3.8.0"
  },
  "orig_nbformat": 4,
  "vscode": {
   "interpreter": {
    "hash": "5075924f1dcda316511d83943c949f668248ca224ee38fd193d18706f67cde21"
   }
  }
 },
 "nbformat": 4,
 "nbformat_minor": 2
}
